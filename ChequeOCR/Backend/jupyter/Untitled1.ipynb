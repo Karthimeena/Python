{
 "cells": [
  {
   "cell_type": "code",
   "execution_count": 15,
   "id": "3bd052d3",
   "metadata": {},
   "outputs": [],
   "source": [
    "import cv2\n",
    "from PIL import Image\n",
    "\n",
    "# Removing backgroung image from hdfc cheque\n",
    "\n",
    "\n",
    "o_img = Image.open(\"O-axis_1.jpeg\")\n",
    "o_img = o_img.convert(\"RGBA\")\n",
    "\n",
    "data_array = o_img.getdata()\n",
    "\n",
    "newdata = []\n",
    "\n",
    "for item in data_array:\n",
    "#     if (item[0] ==  160 and item[1] == 0 and item[2] == 230) or (item[0] ==  160 and item[1] == 0 and item[2] == 215):\n",
    "\n",
    "     if ((item[0] >= 215 and item[0] <= 240) and (item[1] >= 215 and item[1] <= 240) and (item[0] >= 215 and item[0] <= 240)):\n",
    "        newdata.append((255, 255, 255, 255))\n",
    "     else:\n",
    "        newdata.append(item)\n",
    "        \n",
    "o_img.putdata(newdata)\n",
    "o_img.save(\"./hdfc.png\")\n",
    "\n",
    "\n",
    "# grey_img = cv2.cvtColor(o_img, cv2.COLOR_BGR2GRAY)\n",
    "# Image.fromarray(o_img).show()\n",
    "\n",
    "# _, alpha = cv2.threshold(o_img, 100, 200, cv2.THRESH_BINARY)\n",
    "\n",
    "# cv2.imshow(\"Threshold Image\",o_img)\n",
    "\n",
    "# b, g, r = cv2.split(o_img)\n",
    "# rgba = [b, g, r, alpha]\n",
    "# dst = cv2.merge(rgba, 2)\n",
    "# cv2.imwrite(\"hdfc_b.jpg\", dst)\n",
    "# image1 = cv2.imread(\"hdfc_b.jpg\")\n",
    "\n",
    "# Image.fromarray(image1).show()"
   ]
  },
  {
   "cell_type": "code",
   "execution_count": 11,
   "id": "d68d363a",
   "metadata": {},
   "outputs": [
    {
     "name": "stdout",
     "output_type": "stream",
     "text": [
      "[[  0 112   0 ... 253 253 254]\n",
      " [  1 118   0 ... 253 253 254]\n",
      " [  0 123   3 ... 253 253 254]\n",
      " ...\n",
      " [  3 109   1 ...  57  58  52]\n",
      " [  0 124   0 ...  62  54  50]\n",
      " [  3 107   5 ...  56  51  48]]\n"
     ]
    }
   ],
   "source": [
    "o_img= cv2.imread(\"O-axis_1.jpeg\", flags = cv2.IMREAD_GRAYSCALE)\n",
    "print(o_img)\n"
   ]
  },
  {
   "cell_type": "code",
   "execution_count": null,
   "id": "8562e8e0",
   "metadata": {},
   "outputs": [],
   "source": []
  },
  {
   "cell_type": "raw",
   "id": "6e8f7474",
   "metadata": {},
   "source": []
  },
  {
   "cell_type": "code",
   "execution_count": 4,
   "id": "36e1765e",
   "metadata": {},
   "outputs": [
    {
     "data": {
      "text/plain": [
       "array([[255, 255, 255, ..., 255, 255, 255],\n",
       "       [255, 255, 255, ..., 255, 255, 255],\n",
       "       [255, 255, 255, ..., 255, 255, 255],\n",
       "       ...,\n",
       "       [255, 255, 255, ..., 255, 255, 255],\n",
       "       [255, 255, 255, ..., 255, 255, 255],\n",
       "       [255, 255, 255, ..., 255, 255, 255]], dtype=uint8)"
      ]
     },
     "execution_count": 4,
     "metadata": {},
     "output_type": "execute_result"
    }
   ],
   "source": [
    "import cv2\n",
    "from PIL import Image\n",
    "\n",
    "# Removing backgroung image from hdfc cheque\n",
    "\n",
    "o_img= cv2.imread(\"o_hdfc_e2.jpg\", flags = cv2.IMREAD_GRAYSCALE)\n",
    "\n",
    "o_img\n"
   ]
  },
  {
   "cell_type": "code",
   "execution_count": 20,
   "id": "aa086f17",
   "metadata": {},
   "outputs": [],
   "source": [
    "import cv2\n",
    "from PIL import Image\n",
    "import numpy as np\n",
    "\n",
    "# Removing background image from hdfc cheque\n",
    "o_img = Image.open(r'C:\\pythonproject\\ChequeOCR\\Backend\\hdfc_b.jpg')\n",
    "o_img = cv2.cvtColor(np.array(o_img), cv2.COLOR_BGR2GRAY)\n",
    "Image.fromarray(o_img).show()\n",
    "\n",
    "# print(np.array(o_img))\n",
    "# o_img = o_img.convert(\"RGBA\")\n",
    "\n",
    "# data_array = o_img.getdata()\n",
    "\n",
    "for item in np.array(o_img):\n",
    "    #     if (item[0] ==  160 and item[1] == 0 and item[2] == 230) or (item[0] ==  160 and item[1] == 0 and item[2] == 215):\n",
    "\n",
    "    if ((item[0] >= 215 and item[0] <= 255) and (item[1] >= 215 and item[1] <= 255) and (item[0] >= 215 and item[0] <= 255)):\n",
    "            item[0], item[2], item[3], item[4] = 255, 255, 255, 255        \n",
    "   \n",
    "Image.fromarray(o_img).show()\n",
    "\n"
   ]
  },
  {
   "cell_type": "code",
   "execution_count": null,
   "id": "aeb89a6b",
   "metadata": {},
   "outputs": [],
   "source": []
  }
 ],
 "metadata": {
  "kernelspec": {
   "display_name": "Python 3 (ipykernel)",
   "language": "python",
   "name": "python3"
  },
  "language_info": {
   "codemirror_mode": {
    "name": "ipython",
    "version": 3
   },
   "file_extension": ".py",
   "mimetype": "text/x-python",
   "name": "python",
   "nbconvert_exporter": "python",
   "pygments_lexer": "ipython3",
   "version": "3.8.10"
  }
 },
 "nbformat": 4,
 "nbformat_minor": 5
}
