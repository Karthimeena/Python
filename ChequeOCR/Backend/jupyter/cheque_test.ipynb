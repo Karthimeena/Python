{
 "cells": [
  {
   "cell_type": "code",
   "execution_count": 20,
   "id": "3e49cb4b",
   "metadata": {},
   "outputs": [],
   "source": [
    "import cv2\n",
    "import numpy as np\n",
    "from PIL import Image\n",
    "\n",
    "image = cv2.imread(\"O_hdfc_e1.jpg\", flags=cv2.IMREAD_GRAYSCALE)\n",
    "\n",
    "# cv2.imshow(\"Cheque\",image)\n",
    "# cv2.waitKey(0)\n",
    "# cv2.destroyAllWindows\n",
    " \n",
    "# Image.fromarray(image).show()\n",
    "# image\n",
    "\n",
    "# Crop and save the MICR code portion from cheque\n",
    "image = Image.open(r'C:\\pythonproject\\ChequeOCR\\Backend\\jupyter\\cheque2.jpg')\n",
    "\n",
    "# Crop and save the MICR code portion from cheque\n",
    "# im_crop = image.crop((568,881,1766,981))\n",
    "im_crop = image.crop((31,550,1104,613))\n",
    "im_crop.save(r'C:\\pythonproject\\ChequeOCR\\Backend\\jupyter\\O_hdfc_e2.jpg',quality =95)\n",
    "\n",
    "image1 = cv2.imread(\"O_hdfc_e2.jpg\", flags = cv2.IMREAD_GRAYSCALE)\n",
    "Image.fromarray(image1).show()\n",
    "\n",
    "\n"
   ]
  },
  {
   "cell_type": "code",
   "execution_count": 272,
   "id": "e4d8c3b9",
   "metadata": {},
   "outputs": [],
   "source": [
    "from pdf2image import convert_from_path\n",
    "import pytesseract\n",
    "import cv2\n",
    "import numpy as np\n",
    "\n",
    "# pages = convert_from_path(\"O_axis.pdf\",poppler_path=r'C:\\poppler-22.04.0\\Library\\bin')\n",
    "\n",
    "# pages = convert_from_path(\"O_hdfc_e1.pdf\",poppler_path=r'C:\\poppler-22.04.0\\Library\\bin')\n",
    "\n",
    "image = cv2.imread(\"O-axis_1.jpeg\", flags=cv2.IMREAD_GRAYSCALE)\n",
    "# img_grey = cv2.cvtColor(image, cv2.COLOR_BGR2GRAY)\n",
    "new_img = cv2.adaptiveThreshold(image,255,cv2.ADAPTIVE_THRESH_GAUSSIAN_C,cv2.THRESH_BINARY,65,70)\n",
    "   \n",
    "Image.fromarray(new_img).show()\n",
    "\n",
    "# cv2.imshow(\"Certificate\",img_grey)\n",
    "# cv2.waitKey(0)\n",
    "# cv2.destroyAllWindows\n"
   ]
  },
  {
   "cell_type": "code",
   "execution_count": 25,
   "id": "16d10638",
   "metadata": {},
   "outputs": [
    {
     "data": {
      "text/plain": [
       "1"
      ]
     },
     "execution_count": 25,
     "metadata": {},
     "output_type": "execute_result"
    }
   ],
   "source": [
    "len(pages)"
   ]
  },
  {
   "cell_type": "code",
   "execution_count": 13,
   "id": "8bb5a646",
   "metadata": {
    "scrolled": true
   },
   "outputs": [
    {
     "name": "stdout",
     "output_type": "stream",
     "text": [
      "| Date: 9/12/2022\n",
      "\n",
      "Pay ABC Company and tec OR BEARER\n",
      "Rupees One lakh fifteen thousand only\n",
      "\n",
      "Only z. 1,15,000\n",
      "\n",
      "A/c No. : 123456789000\n",
      "SBOX BANK\n",
      "\n",
      "IFS CODE - 0123\n",
      "\n",
      "wOhes4S¢ O123456769% O1234Sw\" 01\n"
     ]
    }
   ],
   "source": [
    "from pdf2image import convert_from_path\n",
    "import pytesseract\n",
    "import cv2\n",
    "import numpy as np\n",
    "from PIL import Image\n",
    "\n",
    "image = cv2.imread(\"cheque3.jpg\")\n",
    "image = cv2.cvtColor(np.array(image), cv2.COLOR_BGR2GRAY)\n",
    "# Image.fromarray(image).show()\n",
    "\n",
    "new_img = cv2.adaptiveThreshold(image,255,cv2.ADAPTIVE_THRESH_GAUSSIAN_C,cv2.THRESH_BINARY,61,30)\n",
    "\n",
    "pytesseract.pytesseract.tesseract_cmd = r'C:\\Users\\pirat\\AppData\\Local\\Tesseract-OCR\\tesseract.exe'\n",
    "text = pytesseract.image_to_string(new_img, lang='eng')\n",
    "print(text)\n",
    "       \n"
   ]
  },
  {
   "cell_type": "code",
   "execution_count": 5,
   "id": "12956feb",
   "metadata": {},
   "outputs": [
    {
     "data": {
      "text/plain": [
       "'9/12/2022'"
      ]
     },
     "execution_count": 5,
     "metadata": {},
     "output_type": "execute_result"
    }
   ],
   "source": [
    "import re\n",
    "\n",
    "c_date = re.findall(\"Date:(.*)Pay\",text,flags= re.DOTALL)\n",
    "c_date[0].strip()"
   ]
  },
  {
   "cell_type": "code",
   "execution_count": 6,
   "id": "39be5d92",
   "metadata": {},
   "outputs": [
    {
     "data": {
      "text/plain": [
       "'ABC Company and tec'"
      ]
     },
     "execution_count": 6,
     "metadata": {},
     "output_type": "execute_result"
    }
   ],
   "source": [
    "c_pay = re.findall(\"Pay(.*)OR\",text,flags=re.DOTALL)\n",
    "c_pay[0].strip()"
   ]
  },
  {
   "cell_type": "code",
   "execution_count": 18,
   "id": "ba05d744",
   "metadata": {},
   "outputs": [
    {
     "data": {
      "text/plain": [
       "'One lakh fifteen thousand'"
      ]
     },
     "execution_count": 18,
     "metadata": {},
     "output_type": "execute_result"
    }
   ],
   "source": [
    "c_rupee_words = re.findall(\"Rupees(.*)only\",text, flags = re.DOTALL)\n",
    "c_rupee_words[0].strip()"
   ]
  },
  {
   "cell_type": "code",
   "execution_count": 21,
   "id": "ed13a3dc",
   "metadata": {},
   "outputs": [
    {
     "data": {
      "text/plain": [
       "'1,15,000'"
      ]
     },
     "execution_count": 21,
     "metadata": {},
     "output_type": "execute_result"
    }
   ],
   "source": [
    "c_rupee = re.findall(\"z. (.*)\",text)\n",
    "c_rupee[0].strip()"
   ]
  },
  {
   "cell_type": "code",
   "execution_count": 20,
   "id": "3c1d40d8",
   "metadata": {},
   "outputs": [
    {
     "ename": "SyntaxError",
     "evalue": "invalid syntax (1483050571.py, line 2)",
     "output_type": "error",
     "traceback": [
      "\u001b[1;36m  Input \u001b[1;32mIn [20]\u001b[1;36m\u001b[0m\n\u001b[1;33m    c_acc_no[0].strip()(.*)\u001b[0m\n\u001b[1;37m                        ^\u001b[0m\n\u001b[1;31mSyntaxError\u001b[0m\u001b[1;31m:\u001b[0m invalid syntax\n"
     ]
    }
   ],
   "source": [
    "c_acc_no = re.findall(\"A/c No. :(.*)\",text)\n",
    "c_acc_no[0].strip()(.*)"
   ]
  },
  {
   "cell_type": "code",
   "execution_count": 185,
   "id": "823cad06",
   "metadata": {},
   "outputs": [
    {
     "data": {
      "text/plain": [
       "'HDFCO0018s2'"
      ]
     },
     "execution_count": 185,
     "metadata": {},
     "output_type": "execute_result"
    }
   ],
   "source": [
    "c_IFS = re.findall(\"IFSC : (.*) Valid\",text)\n",
    "c_IFS[0].strip()\n"
   ]
  },
  {
   "cell_type": "code",
   "execution_count": 7,
   "id": "e59581cf",
   "metadata": {},
   "outputs": [
    {
     "ename": "IndexError",
     "evalue": "list index out of range",
     "output_type": "error",
     "traceback": [
      "\u001b[1;31m---------------------------------------------------------------------------\u001b[0m",
      "\u001b[1;31mIndexError\u001b[0m                                Traceback (most recent call last)",
      "Input \u001b[1;32mIn [7]\u001b[0m, in \u001b[0;36m<cell line: 2>\u001b[1;34m()\u001b[0m\n\u001b[0;32m      1\u001b[0m c_chequeNo \u001b[38;5;241m=\u001b[39m re\u001b[38;5;241m.\u001b[39mfindall(\u001b[38;5;124m\"\u001b[39m\u001b[38;5;124m[A-Z]\u001b[39m\u001b[38;5;132;01m{3}\u001b[39;00m\u001b[38;5;124m\\\u001b[39m\u001b[38;5;124md\u001b[39m\u001b[38;5;132;01m{3}\u001b[39;00m\u001b[38;5;124m\"\u001b[39m, text)\n\u001b[1;32m----> 2\u001b[0m \u001b[43mc_chequeNo\u001b[49m\u001b[43m[\u001b[49m\u001b[38;5;241;43m0\u001b[39;49m\u001b[43m]\u001b[49m\u001b[38;5;241m.\u001b[39mstrip()\n",
      "\u001b[1;31mIndexError\u001b[0m: list index out of range"
     ]
    }
   ],
   "source": [
    "c_chequeNo = re.findall(\"[A-Z]{3}\\d{3}\", text)\n",
    "c_chequeNo[0].strip()\n"
   ]
  },
  {
   "cell_type": "code",
   "execution_count": 187,
   "id": "b2214aa6",
   "metadata": {},
   "outputs": [
    {
     "ename": "IndexError",
     "evalue": "list index out of range",
     "output_type": "error",
     "traceback": [
      "\u001b[1;31m---------------------------------------------------------------------------\u001b[0m",
      "\u001b[1;31mIndexError\u001b[0m                                Traceback (most recent call last)",
      "Input \u001b[1;32mIn [187]\u001b[0m, in \u001b[0;36m<cell line: 2>\u001b[1;34m()\u001b[0m\n\u001b[0;32m      1\u001b[0m c_MCRCode \u001b[38;5;241m=\u001b[39m re\u001b[38;5;241m.\u001b[39mfindall(\u001b[38;5;124m\"\u001b[39m\u001b[38;5;124m([A-Za-z0-9]\u001b[39m\u001b[38;5;132;01m{10}\u001b[39;00m\u001b[38;5;124m)::\u001b[39m\u001b[38;5;124m\"\u001b[39m, text)\n\u001b[1;32m----> 2\u001b[0m \u001b[43mc_MCRCode\u001b[49m\u001b[43m[\u001b[49m\u001b[38;5;241;43m0\u001b[39;49m\u001b[43m]\u001b[49m\u001b[38;5;241m.\u001b[39mstrip()\n",
      "\u001b[1;31mIndexError\u001b[0m: list index out of range"
     ]
    }
   ],
   "source": [
    "c_MCRCode = re.findall(\"([A-Za-z0-9]{10})::\", text)\n",
    "c_MCRCode[0].strip()"
   ]
  },
  {
   "cell_type": "code",
   "execution_count": 189,
   "id": "5912075f",
   "metadata": {},
   "outputs": [
    {
     "data": {
      "text/plain": [
       "'CHENNAL'"
      ]
     },
     "execution_count": 189,
     "metadata": {},
     "output_type": "execute_result"
    }
   ],
   "source": [
    "c_accID = re.findall(\"([A-Za-z0-9]{7}) \\d{2}\", text)\n",
    "c_accID[0].strip()\n"
   ]
  },
  {
   "cell_type": "code",
   "execution_count": 190,
   "id": "c528d9f7",
   "metadata": {},
   "outputs": [
    {
     "data": {
      "text/plain": [
       "'60'"
      ]
     },
     "execution_count": 190,
     "metadata": {},
     "output_type": "execute_result"
    }
   ],
   "source": [
    "c_transID = re.findall(\"[A-Za-z0-9]{7} (\\d{2})\", text)\n",
    "c_transID[0].strip()"
   ]
  },
  {
   "cell_type": "code",
   "execution_count": null,
   "id": "33851b35",
   "metadata": {},
   "outputs": [],
   "source": [
    "# Read MCIR CODE\n"
   ]
  }
 ],
 "metadata": {
  "kernelspec": {
   "display_name": "Python 3 (ipykernel)",
   "language": "python",
   "name": "python3"
  },
  "language_info": {
   "codemirror_mode": {
    "name": "ipython",
    "version": 3
   },
   "file_extension": ".py",
   "mimetype": "text/x-python",
   "name": "python",
   "nbconvert_exporter": "python",
   "pygments_lexer": "ipython3",
   "version": "3.8.10"
  }
 },
 "nbformat": 4,
 "nbformat_minor": 5
}
